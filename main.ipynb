{
 "cells": [
  {
   "cell_type": "code",
   "execution_count": 28,
   "metadata": {},
   "outputs": [],
   "source": [
    "# Imports\n",
    "import numpy as np\n",
    "import matplotlib.pyplot as plt"
   ]
  },
  {
   "cell_type": "code",
   "execution_count": 22,
   "metadata": {},
   "outputs": [],
   "source": [
    "# Winner Determination\n",
    "PLAYER_ONE = 1\n",
    "PLAYER_TWO = 2\n",
    "\n",
    "def who_wins(start_num, limit):\n",
    "    if start_num % (limit + 1) == 0:\n",
    "        return PLAYER_TWO\n",
    "    else:\n",
    "        return PLAYER_ONE"
   ]
  },
  {
   "cell_type": "code",
   "execution_count": 25,
   "metadata": {},
   "outputs": [],
   "source": [
    "# Game play\n",
    "def play_game(limit):\n",
    "    START_NUM_POOL = [i for i in range(limit*2, limit*100)]\n",
    "    start_num = np.random.choice(START_NUM_POOL)\n",
    "    return who_wins(start_num, limit)"
   ]
  },
  {
   "cell_type": "code",
   "execution_count": 36,
   "metadata": {},
   "outputs": [],
   "source": [
    "# Simulate\n",
    "def simulate(limit, n_trials=100000):\n",
    "    print(\"Simulating with {} trials\".format(n_trials))\n",
    "    wins = [0, 0]\n",
    "    for _ in range(n_trials):\n",
    "        winner = play_game(limit)\n",
    "        if winner == PLAYER_ONE:\n",
    "            wins[0] += 1\n",
    "        else:\n",
    "            wins[1] += 1\n",
    "    return wins"
   ]
  },
  {
   "cell_type": "code",
   "execution_count": 37,
   "metadata": {},
   "outputs": [
    {
     "name": "stdout",
     "output_type": "stream",
     "text": [
      "Simulating with 100000 trials\n"
     ]
    },
    {
     "data": {
      "text/plain": [
       "([<matplotlib.axis.XTick at 0x7fdd288a5e80>,\n",
       "  <matplotlib.axis.XTick at 0x7fdd288a5e48>],\n",
       " [Text(0, 0, 'Player 1'), Text(0, 0, 'Player 2')])"
      ]
     },
     "execution_count": 37,
     "metadata": {},
     "output_type": "execute_result"
    },
    {
     "data": {
      "image/png": "[encoded data removed]",
      "text/plain": [
       "<Figure size 432x288 with 1 Axes>"
      ]
     },
     "metadata": {
      "needs_background": "light"
     },
     "output_type": "display_data"
    }
   ],
   "source": [
    "# Run simulation and plot\n",
    "simulation_result_limit_3 = simulate(3)\n",
    "plt.bar(range(2), simulation_result_limit_3, align='center')\n",
    "plt.xticks(range(2), ['Player 1', 'Player 2'])"
   ]
  },
  {
   "cell_type": "code",
   "execution_count": null,
   "metadata": {},
   "outputs": [],
   "source": []
  }
 ],
 "metadata": {
  "kernelspec": {
   "display_name": "Python 3",
   "language": "python",
   "name": "python3"
  },
  "language_info": {
   "codemirror_mode": {
    "name": "ipython",
    "version": 3
   },
   "file_extension": ".py",
   "mimetype": "text/x-python",
   "name": "python",
   "nbconvert_exporter": "python",
   "pygments_lexer": "ipython3",
   "version": "3.6.8"
  }
 },
 "nbformat": 4,
 "nbformat_minor": 4
}
