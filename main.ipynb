{
 "cells": [
  {
   "cell_type": "code",
   "execution_count": 28,
   "metadata": {},
   "outputs": [],
   "source": [
    "# Imports\n",
    "import numpy as np\n",
    "import matplotlib.pyplot as plt"
   ]
  },
  {
   "cell_type": "code",
   "execution_count": 22,
   "metadata": {},
   "outputs": [],
   "source": [
    "# Winner Determination\n",
    "PLAYER_ONE = 1\n",
    "PLAYER_TWO = 2\n",
    "\n",
    "def who_wins(start_num, limit):\n",
    "    if start_num % (limit + 1) == 0:\n",
    "        return PLAYER_TWO\n",
    "    else:\n",
    "        return PLAYER_ONE"
   ]
  },
  {
   "cell_type": "code",
   "execution_count": 25,
   "metadata": {},
   "outputs": [],
   "source": [
    "# Game play\n",
    "def play_game(limit):\n",
    "    START_NUM_POOL = [i for i in range(limit*2, limit*100)]\n",
    "    start_num = np.random.choice(START_NUM_POOL)\n",
    "    return who_wins(start_num, limit)"
   ]
  },
  {
   "cell_type": "code",
   "execution_count": 27,
   "metadata": {},
   "outputs": [],
   "source": [
    "# Simulate\n",
    "def simulate(limit, trials=100000):\n",
    "    wins = [0, 0]\n",
    "    for _ in range(trials):\n",
    "        winner = play_game(limit)\n",
    "        if winner == PLAYER_ONE:\n",
    "            wins[0] += 1\n",
    "        else:\n",
    "            wins[1] += 1\n",
    "    return wins[0], wins[1]"
   ]
  },
  {
   "cell_type": "code",
   "execution_count": 29,
   "metadata": {},
   "outputs": [
    {
     "data": {
      "text/plain": [
       "[<matplotlib.lines.Line2D at 0x7fdd2860da20>]"
      ]
     },
     "execution_count": 29,
     "metadata": {},
     "output_type": "execute_result"
    },
    {
     "data": {
      "image/png": "[encoded data removed]",
      "text/plain": [
       "<Figure size 432x288 with 1 Axes>"
      ]
     },
     "metadata": {
      "needs_background": "light"
     },
     "output_type": "display_data"
    }
   ],
   "source": [
    "simulation_limit_3 = simulate(3)\n"
   ]
  },
  {
   "cell_type": "code",
   "execution_count": null,
   "metadata": {},
   "outputs": [],
   "source": []
  }
 ],
 "metadata": {
  "kernelspec": {
   "display_name": "Python 3",
   "language": "python",
   "name": "python3"
  },
  "language_info": {
   "codemirror_mode": {
    "name": "ipython",
    "version": 3
   },
   "file_extension": ".py",
   "mimetype": "text/x-python",
   "name": "python",
   "nbconvert_exporter": "python",
   "pygments_lexer": "ipython3",
   "version": "3.6.8"
  }
 },
 "nbformat": 4,
 "nbformat_minor": 4
}
