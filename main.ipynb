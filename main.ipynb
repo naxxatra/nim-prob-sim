{
 "cells": [
  {
   "cell_type": "code",
   "execution_count": 28,
   "metadata": {},
   "outputs": [],
   "source": [
    "# Imports\n",
    "import numpy as np\n",
    "import matplotlib.pyplot as plt"
   ]
  },
  {
   "cell_type": "code",
   "execution_count": 22,
   "metadata": {},
   "outputs": [],
   "source": [
    "# Winner Determination\n",
    "PLAYER_ONE = 1\n",
    "PLAYER_TWO = 2\n",
    "\n",
    "def who_wins(start_num, limit):\n",
    "    if start_num % (limit + 1) == 0:\n",
    "        return PLAYER_TWO\n",
    "    else:\n",
    "        return PLAYER_ONE"
   ]
  },
  {
   "cell_type": "code",
   "execution_count": 25,
   "metadata": {},
   "outputs": [],
   "source": [
    "# Game play\n",
    "def play_game(limit):\n",
    "    START_NUM_POOL = [i for i in range(limit*2, limit*100)]\n",
    "    start_num = np.random.choice(START_NUM_POOL)\n",
    "    return who_wins(start_num, limit)"
   ]
  },
  {
   "cell_type": "code",
   "execution_count": 43,
   "metadata": {},
   "outputs": [],
   "source": [
    "# Simulate\n",
    "def simulate(limit, n_trials=100000):\n",
    "    print(\"Simulating with {} trials with a picking limit of {}\".format(n_trials, limit))\n",
    "    wins = [0, 0]\n",
    "    for _ in range(n_trials):\n",
    "        winner = play_game(limit)\n",
    "        if winner == PLAYER_ONE:\n",
    "            wins[0] += 1\n",
    "        else:\n",
    "            wins[1] += 1\n",
    "    return wins"
   ]
  },
  {
   "cell_type": "code",
   "execution_count": 46,
   "metadata": {},
   "outputs": [],
   "source": [
    "# Simulate and Graph\n",
    "def simulate_and_graph(limit, n_trials=100000):\n",
    "    simulation_result_limit_3 = simulate(limit, n_trials)\n",
    "    plt.bar(range(2), simulation_result_limit_3, align='center')\n",
    "    plt.xticks(range(2), ['Player 1', 'Player 2'])"
   ]
  },
  {
   "cell_type": "code",
   "execution_count": 51,
   "metadata": {},
   "outputs": [],
   "source": [
    "# Run simulation for 1 to 20 picking limit\n",
    "def simulate_n_pick_limit(n):\n",
    "    wins = []\n",
    "    for i in range(1, n + 1):\n",
    "        win_i = simulate(i)\n",
    "        wins.append(win_i)\n",
    "    return wins"
   ]
  },
  {
   "cell_type": "code",
   "execution_count": 52,
   "metadata": {},
   "outputs": [
    {
     "name": "stdout",
     "output_type": "stream",
     "text": [
      "Simulating with 100000 trials with a picking limit of 1\n",
      "Simulating with 100000 trials with a picking limit of 2\n",
      "Simulating with 100000 trials with a picking limit of 3\n",
      "Simulating with 100000 trials with a picking limit of 4\n",
      "Simulating with 100000 trials with a picking limit of 5\n",
      "Simulating with 100000 trials with a picking limit of 6\n",
      "Simulating with 100000 trials with a picking limit of 7\n",
      "Simulating with 100000 trials with a picking limit of 8\n",
      "Simulating with 100000 trials with a picking limit of 9\n",
      "Simulating with 100000 trials with a picking limit of 10\n",
      "Simulating with 100000 trials with a picking limit of 11\n",
      "Simulating with 100000 trials with a picking limit of 12\n",
      "Simulating with 100000 trials with a picking limit of 13\n",
      "Simulating with 100000 trials with a picking limit of 14\n",
      "Simulating with 100000 trials with a picking limit of 15\n",
      "Simulating with 100000 trials with a picking limit of 16\n",
      "Simulating with 100000 trials with a picking limit of 17\n",
      "Simulating with 100000 trials with a picking limit of 18\n",
      "Simulating with 100000 trials with a picking limit of 19\n",
      "Simulating with 100000 trials with a picking limit of 20\n"
     ]
    }
   ],
   "source": [
    "wins = simulate_n_pick_limit(20)"
   ]
  },
  {
   "cell_type": "code",
   "execution_count": 55,
   "metadata": {},
   "outputs": [],
   "source": [
    "wins_np_arr = np.array(wins)"
   ]
  },
  {
   "cell_type": "code",
   "execution_count": 68,
   "metadata": {},
   "outputs": [
    {
     "data": {
      "text/plain": [
       "<matplotlib.legend.Legend at 0x7fdd294306d8>"
      ]
     },
     "execution_count": 68,
     "metadata": {},
     "output_type": "execute_result"
    },
    {
     "data": {
      "image/png": "[encoded data removed]",
      "text/plain": [
       "<Figure size 432x288 with 1 Axes>"
      ]
     },
     "metadata": {
      "needs_background": "light"
     },
     "output_type": "display_data"
    }
   ],
   "source": [
    "plt.plot([i for i in range(1, 21)], wins_np_arr[:, 0], label=\"Player 1\")\n",
    "plt.plot([i for i in range(1, 21)], wins_np_arr[:, 1], label=\"Player 2\")\n",
    "plt.legend()"
   ]
  },
  {
   "cell_type": "code",
   "execution_count": null,
   "metadata": {},
   "outputs": [],
   "source": []
  }
 ],
 "metadata": {
  "kernelspec": {
   "display_name": "Python 3",
   "language": "python",
   "name": "python3"
  },
  "language_info": {
   "codemirror_mode": {
    "name": "ipython",
    "version": 3
   },
   "file_extension": ".py",
   "mimetype": "text/x-python",
   "name": "python",
   "nbconvert_exporter": "python",
   "pygments_lexer": "ipython3",
   "version": "3.6.8"
  }
 },
 "nbformat": 4,
 "nbformat_minor": 4
}
